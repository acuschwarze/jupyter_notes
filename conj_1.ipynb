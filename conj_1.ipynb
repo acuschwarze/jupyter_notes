{
 "cells": [
  {
   "cell_type": "markdown",
   "metadata": {},
   "source": [
    "I'm no expert on Wishart matrices, so the below will be fairly sketchy. But here's an outline of an argument and some empirical results supporting the broad strokes of it. If you think this is promising for your application, we can plan a bit about what is worth proving and how much time to spend on it. "
   ]
  },
  {
   "cell_type": "markdown",
   "metadata": {},
   "source": [
    "If I understand your context correct, your data for this problem is a covariance matrix $\\Sigma = \\mathbb{E}[\\mathbf{Y}\\mathbf{Y}^T]$ of correlations between system states encoded by $\\mathbf{Y}$, in which the rows of $\\mathbf{Y}$ are states and the columns of $\\mathbf{Y}$ are observations. Suppose there are $n$ states."
   ]
  },
  {
   "cell_type": "markdown",
   "metadata": {},
   "source": [
    "<font color='orange'>Alice: I would write $\\Sigma = \\mathbf{Y}\\mathbf{Y}^T$. What are you taking the expectation of in your equation above?</font>"
   ]
  },
  {
   "cell_type": "markdown",
   "metadata": {},
   "source": [
    "Fix $k$. Let $C_k \\triangleq \\left\\{S \\subseteq 2^{[n]} | \\left|S\\right| = k\\right\\}$, and let $I \\sim \\text{uniform}(C_k)$. We're interested in the random variable  \n",
    "\n",
    "$$\n",
    "    X = \\log \\left|\\Sigma_I\\right|\\;,\n",
    "$$\n",
    "\n",
    "where $\\left|A\\right|$ is the determinant of $A$ and $\\Sigma_I$ is the principal submatrix of $\\Sigma$ determined by the (random) indices $I$. \n",
    "\n",
    "# A Naive Scaling Argument for $\\mathbb{E}[X]$\n",
    "\n",
    "The following is short, sweet, and hand-wavy. \n",
    "\n",
    "**Conjecture**: *With high probability,* $\\mathbb{E}[X] = (k + o(k))(\\log k - 1)$.\n",
    "\n",
    "**Intuition**: $\\left|\\Sigma_I\\right|$ has $k!$ terms, each of which is a product of $k$ entries of $\\Sigma$. Here's the hand-wavy bit: we're going to estimate the size of a \"typical\" term $t_\\sigma = (-1)^{\\text{sgn}\\sigma} \\prod_{i \\in I} s_{\\sigma(i)}$ corresponding to permutation $\\sigma$. We'd like to write something like this: \n",
    "$$\n",
    "    \\begin{aligned}\n",
    "    \\mathbb{E} [\\log t_\\sigma] &= \\mathbb{E} \\left[\\log (-1)^{\\text{sgn}\\sigma}\\prod_i s_{\\sigma(i)} \\right] \\\\ \n",
    "    &\\leq \\mathbb{E} \\left[\\log \\prod_i s_{\\sigma(i)} \\right] \\\\ \n",
    "    &= \\mathbb{E} \\sum_{i} \\log s_\\sigma(i) \\\\ \n",
    "    &\\approx k \\log \\hat{s}_I\\;.\n",
    "    \\end{aligned}\n",
    "$$\n",
    "The expectation is over terms of $\\left|\\Sigma_I\\right|$. The second line is Jensen's inequality, and in the last line we've just defined $\\hat{s}_I$ to make this true. Nothing above is formally invalid if we define $\\log x = -\\infty$ when $x < 0$, but the fact that we have to do so might make things very loose. \n",
    "\n",
    "Let's act like dirty physicists and ignore those concerns for now. We've argued that a typical term of $\\left|\\Sigma_I\\right|$ has size about $\\hat{s}_I^k$. There are $k!$ of them, so let's estimate\n",
    "\n",
    "$$\n",
    "    \\begin{aligned}\n",
    "        X &= \\log \\left|\\Sigma_I\\right| \\\\ \n",
    "          &\\approx \\log k!\\hat{s}_I^k \\\\ \n",
    "          &= k\\log \\hat{s}_I + k(\\log k - 1) + o(\\log k) \\\\ \n",
    "          &= (k + o(k))(\\log k - 1)  + o(\\log k) \\\\ \n",
    "          &= (k + o(k))(\\log k - 1)\\;, \n",
    "    \\end{aligned}\n",
    "$$\n",
    "which was the claim. We've used the vanilla Stirling approximation in the third line. "
   ]
  },
  {
   "cell_type": "markdown",
   "metadata": {},
   "source": [
    "<font color='orange'>Alice: What a daring approximation of the determinant of a Wishart matrix! It honestly surprised me how well it worked for your numerics below. Impressive!</font>"
   ]
  },
  {
   "cell_type": "markdown",
   "metadata": {},
   "source": [
    "# Numerical Experiment\n",
    "\n",
    "Let's try this out. For this sketch, we'll just consider the same Wigner matrices as in your illustration code. Since our random variable is a single principal minor, we can just generate independent matrices each time. "
   ]
  },
  {
   "cell_type": "markdown",
   "metadata": {},
   "source": [
    "<font color='orange'>Alice: I think the last statement in the cell above in incorrect. I am interested in the expected mean and expected standard deviation, where we take\n",
    "<ol>\n",
    "    <li>the mean and standard deviation over all $\\binom{n}{k}$ principal submatrices of a single realisation of the Wishart ensemble and </li>\n",
    "    <li>the expectation of the Wishart ensemble.</li>\n",
    "</ol>\n",
    "\n",
    "Our random variable is therefore the set of $\\binom{n}{k}$ principal minors, not just a single one. The distinction matters. For example, take principal minors of size $n-1$ (where $n$ is the size of the full Wigner matrix). Consider two $(n-1)$-minors, $m_1$ and $m_2$. The two submatrices share a lot elements, so it makes sense to assume that knowledge of $m_1$ should tell you something about $m_2$ that you would not have known just from the size of the submatrix and properties of the Wishart ensemble. <p>\n",
    "\n",
    "It may be that the distinction does not matter for the mean, i.e.,\n",
    "<p>$$\n",
    "\\begin{aligned}\n",
    "    \\log \\left|\\Sigma_I\\right| \\approx \\log \\left|\\Sigma'\\right|\\,,\n",
    "\\end{aligned}\n",
    "$$<br>\n",
    "\n",
    "where $\\Sigma$ is a $n\\times n$ Wishart matrix, $I$ a set of $k$ indices, and $\\Sigma'$ is a $k\\times k$ Wishart matrix. However, it certainly matters for the standard deviation. In the first table in the other notebook, one can see that the standard deviation of log-minors changes when one increases $n$ while $k$ is fixed. So both $n$ and $k$ should matter. An extreme case of this occurs for $k=n$. Then $\\binom{n}{k}=1$, so the set of all principal minors has just one element and its standard deviation is 0.</font>"
   ]
  },
  {
   "cell_type": "code",
   "execution_count": 1,
   "metadata": {},
   "outputs": [],
   "source": [
    "import numpy as np\n",
    "from matplotlib import pyplot as plt\n",
    "%matplotlib inline"
   ]
  },
  {
   "cell_type": "code",
   "execution_count": 2,
   "metadata": {},
   "outputs": [],
   "source": [
    "def experiment(int_n, int_m = 20):\n",
    "    def getWishart(int_n):\n",
    "        X = np.random.normal(size=(int_n,int_n))\n",
    "        return np.matmul(X.T,X)\n",
    "    def WishartLogDet(int_n):\n",
    "        X = getWishart(int_n)\n",
    "        d = np.linalg.slogdet(X)\n",
    "        return d\n",
    "    dets = [WishartLogDet(int_n) for i in np.arange(0, int_m)]\n",
    "    mu = np.mean(dets)\n",
    "    v  = np.var(dets)\n",
    "    return (mu, v)"
   ]
  },
  {
   "cell_type": "markdown",
   "metadata": {},
   "source": [
    "<font color='orange'>Alice: I think I caused some confusion by mixing up Wigner and Wishart in the previous notebook. Have corrected it in both.</font>"
   ]
  },
  {
   "cell_type": "markdown",
   "metadata": {},
   "source": [
    "For each dimension $k$, we'll generate a Wigner matrix and compute it's log determinant 50 times, then compute the mean and variance of the results. First the mean.  "
   ]
  },
  {
   "cell_type": "code",
   "execution_count": 5,
   "metadata": {},
   "outputs": [],
   "source": [
    "k = np.arange(1, 500, 1)\n",
    "experiments = [experiment(n, 50) for n in k]\n",
    "mu, v = zip(*experiments)\n",
    "scale = k * (np.log(k) -1)"
   ]
  },
  {
   "cell_type": "code",
   "execution_count": 6,
   "metadata": {},
   "outputs": [
    {
     "data": {
      "text/plain": [
       "(0.48, 0.52)"
      ]
     },
     "execution_count": 6,
     "metadata": {},
     "output_type": "execute_result"
    },
    {
     "data": {
      "image/png": "[encoded data removed]",
      "text/plain": [
       "<matplotlib.figure.Figure at 0x111a2c350>"
      ]
     },
     "metadata": {},
     "output_type": "display_data"
    }
   ],
   "source": [
    "plt.plot(k, mu/scale)\n",
    "plt.plot(k, np.repeat(0.5, len(k)))\n",
    "plt.ylabel(r'$\\mu / k \\log k$')\n",
    "plt.xlabel(r'$k$')\n",
    "plt.ylim(.48, .52)"
   ]
  },
  {
   "cell_type": "markdown",
   "metadata": {},
   "source": [
    "It appears that \n",
    "$$\n",
    "    \\frac{\\mathbb{E}[X]}{k (\\log k - 1)} \\rightarrow \\frac{1}{2}\n",
    "$$\n",
    "as $k$ grows large, which would suggest that the above conjecture is correct modulo a factor of 2. A better argument would (a) be rigorous and (b) get that factor correct. In general, I'd conjecture that it depends on the system under study... "
   ]
  },
  {
   "cell_type": "markdown",
   "metadata": {},
   "source": [
    "<font color='orange'>Alice: Again, I am very impressed by this. I haven't looked it up, but I assume that results on the expectation of determinants of Wishart matrices exist. It would be interesting to see how close your bound is to whatever is the best bound currently available.</font>"
   ]
  },
  {
   "cell_type": "markdown",
   "metadata": {},
   "source": [
    "# What About the Variance?\n",
    "\n",
    "We've argued that the expected log minor grows only slightly faster than the dimension of the subsystems you care about. What about the variance? I don't have an argument, but here's a plot that came from a guess that was equal parts intuition and luck. "
   ]
  },
  {
   "cell_type": "code",
   "execution_count": 7,
   "metadata": {},
   "outputs": [
    {
     "data": {
      "text/plain": [
       "(0.98, 1.02)"
      ]
     },
     "execution_count": 7,
     "metadata": {},
     "output_type": "execute_result"
    },
    {
     "data": {
      "image/png": "[encoded data removed]",
      "text/plain": [
       "<matplotlib.figure.Figure at 0x110249b50>"
      ]
     },
     "metadata": {},
     "output_type": "display_data"
    }
   ],
   "source": [
    "plt.plot(k, np.sqrt(v)/mu)\n",
    "plt.plot(k, np.repeat(1, len(k)))\n",
    "plt.ylabel(r'$\\sqrt{Var(X)} / \\mathbb{E}[X]$')\n",
    "plt.xlabel(r'$k$')\n",
    "plt.ylim(.98, 1.02)"
   ]
  },
  {
   "cell_type": "markdown",
   "metadata": {},
   "source": [
    "This would suggest: \n",
    "\n",
    "**Conjecture:** \n",
    "\n",
    "$$\n",
    "    \\lim_{k \\rightarrow \\infty} \\frac{\\sqrt{\\text{Var}(X)}}{\\mathbb{E}[X]} = C\n",
    "$$\n",
    "\n",
    "*for some constant $C$ that depends on the system.*\n",
    "\n",
    "In turn, we would have \n",
    "\n",
    "$$\n",
    "    \\sqrt{\\text{Var}(X)} = C (k + o(k)) (\\log k - 1)\\;.\n",
    "$$\n",
    "\n",
    "In one sense, this is not a very encouraging result. It implies, for example, that Chebyshev-type concentration bounds will not work. On the other hand, maybe this isn't too bad -- to estimate the expected entropy over subsystems of size $k$, you need to sample about $ q k \\log k$ principal minors for some small-ish constant $q$ that depends on the statistical power you want. And, after all, \n",
    "\n",
    "$$\n",
    "    q k \\log k \\ll \\binom{n}{k} \\approx \\frac{n^k}{k!}\\;,\n",
    "$$\n",
    "so that's something..."
   ]
  },
  {
   "cell_type": "markdown",
   "metadata": {},
   "source": [
    "<font color='orange'>Alice: In a way, that is good news. If the log-determinants of Wishart matrices would converge in the limit of large systems, then that would mean the entropy of any system with many particles would only depend on the number of particles in the system and nothing else. So existential crisis in information theory averted!</font>"
   ]
  },
  {
   "cell_type": "markdown",
   "metadata": {},
   "source": [
    "# Next?....\n",
    "\n",
    "If you think any of this is promising and worth working out in more detail, let me know! "
   ]
  }
 ],
 "metadata": {
  "kernelspec": {
   "display_name": "Python 3",
   "language": "python",
   "name": "python3"
  },
  "language_info": {
   "codemirror_mode": {
    "name": "ipython",
    "version": 3
   },
   "file_extension": ".py",
   "mimetype": "text/x-python",
   "name": "python",
   "nbconvert_exporter": "python",
   "pygments_lexer": "ipython3",
   "version": "3.6.5"
  }
 },
 "nbformat": 4,
 "nbformat_minor": 2
}
