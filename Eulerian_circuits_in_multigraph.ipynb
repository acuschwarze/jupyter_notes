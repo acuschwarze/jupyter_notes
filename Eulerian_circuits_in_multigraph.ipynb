{
 "cells": [
  {
   "cell_type": "code",
   "execution_count": null,
   "metadata": {},
   "outputs": [],
   "source": [
    "import networkx as nx\n",
    "import numpy as np\n",
    "\n",
    "def _runMEC(original_graph, masked_edges):\n",
    "    '''Subfunction of `all_eulerian_circuits_in_multigraph`. This function \n",
    "       creates nested for-loops to find all Eulerian cycles in a graph.''' \n",
    "    \n",
    "    # OK, let's get rid of all the edges that we already used:\n",
    "    G = nx.restricted_view(original_graph, [], masked_edges)\n",
    "    \n",
    "    # The end point of the edge that we used last determines the current vertex:\n",
    "    current_vertex = masked_edges[-1][1]\n",
    "    \n",
    "    # If the degree of the current vertex is zero we can't walk any further and\n",
    "    # one of two things has happened: (i) We made a complete Eulerian circuit\n",
    "    # or (ii) we made a circuit but came back to source to early.\n",
    "    # In the second case, there are still edges left that we haven't used.\n",
    "    if G.degree(current_vertex) == 0:\n",
    "        # Let's make sure that we used up all edges in the original graph:\n",
    "        if len(masked_edges)==original_graph.number_of_edges():\n",
    "            # Yay, `masked edges` is an Eulerian circuit!\n",
    "            yield(masked_edges)\n",
    "    else:\n",
    "        # The current vertex does not have degree zero, so we can still go from\n",
    "        # the current vertex to other vertices. Again, each (remaining) edge at\n",
    "        # the current vertex is a possible choice for completing the circuit:\n",
    "        for e in G.edges(current_vertex, keys=True):\n",
    "            # continue iterative process ...\n",
    "            yield from _runMEC(original_graph, masked_edges+[e])      \n",
    "\n",
    "\n",
    "def all_eulerian_circuits_in_multigraph(G, source=None):\n",
    "    '''For an undirected multigraph (with labeled edges!) find all Eulerian \n",
    "       circuits that start in source vertex. Returns a generator for\n",
    "       Eulerian circuits. Raises exception if the multigraph is not Eulerian.\n",
    "       Using this function for large graphs is probably a bad idea.'''\n",
    "    \n",
    "    # Let's first check if the graph is Eulerian:\n",
    "    if not nx.is_eulerian(G):\n",
    "        raise nx.NetworkXError(\"G is not Eulerian.\")\n",
    "    \n",
    "    # We replace G with a shallow copy of G. I don't know why this is needed\n",
    "    G = G.copy()\n",
    "    \n",
    "    # If user did not specify source, set first vertex as source vertex\n",
    "    if source is None:\n",
    "        source = list(G.nodes())[0]\n",
    "        \n",
    "    # All edges at source node are possible first edges for an Eulerian circuit:\n",
    "    for e in G.edges(source, keys=True):\n",
    "        # Now we start the iterative process!\n",
    "        yield from _runMEC(G, # original graph\n",
    "                           [e]) # list of edges that we have already used"
   ]
  },
  {
   "cell_type": "code",
   "execution_count": null,
   "metadata": {},
   "outputs": [],
   "source": [
    "##### DEMO #####\n",
    "\n",
    "# Let's create an undirected multigraph with two edges between every pair of \n",
    "# vertices:\n",
    "\n",
    "# First, choose the number of vertices in the complete graph. \n",
    "# (Don't get too crazy! Try 2 or 3. Maybe 4. For 4, you are going to get \n",
    "# 130560 Eulerian cycles. Who could possibly want that many Eulerian cycles?)\n",
    "num_vertices = 3\n",
    "\n",
    "# Now, we construct the multigraph:\n",
    "G0 = nx.DiGraph(nx.complete_graph(num_vertices))\n",
    "G = nx.MultiGraph()\n",
    "for e in list(G0.edges()):\n",
    "    G.add_edge(*e)\n",
    "    \n",
    "# Here are the edges of the multigraph. They have labels.\n",
    "print(list(G.edges(keys=True)))"
   ]
  },
  {
   "cell_type": "code",
   "execution_count": null,
   "metadata": {},
   "outputs": [],
   "source": [
    "# Let's get the Eulerian cycles\n",
    "listEC = sorted(list(all_eulerian_circuits_in_multigraph(G)))\n",
    "\n",
    "# How many different Eulerian circles did we find?\n",
    "print(len(listEC))\n",
    "\n",
    "# Let's look at them!\n",
    "for ec in listEC:\n",
    "    print(ec)"
   ]
  }
 ],
 "metadata": {
  "kernelspec": {
   "display_name": "Python 3",
   "language": "python",
   "name": "python3"
  },
  "language_info": {
   "codemirror_mode": {
    "name": "ipython",
    "version": 3
   },
   "file_extension": ".py",
   "mimetype": "text/x-python",
   "name": "python",
   "nbconvert_exporter": "python",
   "pygments_lexer": "ipython3",
   "version": "3.7.3"
  }
 },
 "nbformat": 4,
 "nbformat_minor": 2
}
