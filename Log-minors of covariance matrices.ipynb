{
 "cells": [
  {
   "cell_type": "markdown",
   "metadata": {},
   "source": [
    "# Log-minors of covariance matrices"
   ]
  },
  {
   "cell_type": "markdown",
   "metadata": {},
   "source": [
    "### Why do I care?"
   ]
  },
  {
   "cell_type": "markdown",
   "metadata": {},
   "source": [
    "For several multivariate stochastic processes, log-determinants of covariance matrices can be used to estimate the entropy of a system. Mean log-minors can be used to estimate mean subsystem entropy. Mean subsystem entropy is a quantity of interest in some subfields of physics and neuroscience. (Also, for computing redundancy in my Ornstein--Uhlenbeck networks.)\n",
    "\n",
    "Computing the exact value of mean subsystem entropy requires that we compute all nCr minors. This becomes impossible for large systems. So one needs to replace the mean with a sample mean. If I am able to predict (reasonable upper bounds for) the standard deviation for log-minors of a given covariance matrix, then I can make an informed decision regarding the minimum sample size."
   ]
  },
  {
   "cell_type": "markdown",
   "metadata": {},
   "source": [
    "### Some code"
   ]
  },
  {
   "cell_type": "markdown",
   "metadata": {},
   "source": [
    "Let's start with some useful packages and functions..."
   ]
  },
  {
   "cell_type": "code",
   "execution_count": 95,
   "metadata": {},
   "outputs": [],
   "source": [
    "import numpy as np\n",
    "import itertools as it\n",
    "from functools import reduce\n",
    "from matplotlib import pyplot as plt\n",
    "\n",
    "# function computes number of combinations nCr\n",
    "def nCr(int_n,int_r):\n",
    "    if int_r > int_n:\n",
    "        return 0\n",
    "    else:\n",
    "        if int_r < int_n/2:\n",
    "            int_r = int_n - int_r\n",
    "        out = reduce(lambda x, y: x * y[0] / y[1], zip(range(int_n - int_r + 1, int_n+1), range(1, int_r+1)), 1)\n",
    "        return int(out)"
   ]
  },
  {
   "cell_type": "markdown",
   "metadata": {},
   "source": [
    "Let's draw a matrix from the Wigner ensemble:"
   ]
  },
  {
   "cell_type": "code",
   "execution_count": 141,
   "metadata": {},
   "outputs": [],
   "source": [
    "def getWigner(int_n):\n",
    "    X = np.random.normal(size=(int_n,int_n))\n",
    "    return np.matmul(X.T,X)\n",
    "\n",
    "n = 25\n",
    "W = getWigner(n)"
   ]
  },
  {
   "cell_type": "markdown",
   "metadata": {},
   "source": [
    "Let's compute all log-determinants of principal submatrices of size k=4,6,8:"
   ]
  },
  {
   "cell_type": "code",
   "execution_count": 156,
   "metadata": {},
   "outputs": [],
   "source": [
    "def getLogMinors(arr_W, int_k):\n",
    "    int_n = arr_W.shape[0]\n",
    "    list_minors = np.zeros(nCr(int_n,int_k))\n",
    "    for i, c in enumerate(it.combinations(range(int_n),int_k)):\n",
    "        list_minors[i] = np.linalg.det(arr_W[[*c]][:,[*c]])\n",
    "    return np.log(list_minors)\n",
    "\n",
    "minors4 = getLogMinors(W,4)\n",
    "minors6 = getLogMinors(W,6)\n",
    "minors8 = getLogMinors(W,8)"
   ]
  },
  {
   "cell_type": "markdown",
   "metadata": {},
   "source": [
    "Let's look at their empirical distribution:"
   ]
  },
  {
   "cell_type": "code",
   "execution_count": 171,
   "metadata": {},
   "outputs": [
    {
     "data": {
      "text/plain": [
       "<matplotlib.legend.Legend at 0x13388cd0>"
      ]
     },
     "execution_count": 171,
     "metadata": {},
     "output_type": "execute_result"
    },
    {
     "data": {
      "image/png": "[encoded data removed]",
      "text/plain": [
       "<Figure size 432x288 with 1 Axes>"
      ]
     },
     "metadata": {},
     "output_type": "display_data"
    }
   ],
   "source": [
    "plt.hist(minors4,bins=100, density=True, color='red', label='log minors of size 4')[2]\n",
    "plt.hist(minors6,bins=100, density=True, color='orange', label='log minors of size 6')[2]\n",
    "plt.hist(minors8,bins=100, density=True, color='blue', label='log minors of size 8')[2]\n",
    "plt.xlabel('log minor')\n",
    "plt.ylabel('frequency')\n",
    "plt.title('Empirical distributions of log minors of a 25x25 Wigner matrix')\n",
    "plt.legend()"
   ]
  },
  {
   "cell_type": "markdown",
   "metadata": {},
   "source": [
    "Let's compute the standard deviation and coefficient of variation of the empirical distribution of log-minors for a few values of n and k (This may take a few minutes):"
   ]
  },
  {
   "cell_type": "code",
   "execution_count": 169,
   "metadata": {},
   "outputs": [
    {
     "name": "stdout",
     "output_type": "stream",
     "text": [
      "       | n = 10 | n = 12 | n = 14 | n = 16 | n = 18 | n = 20 \n",
      "-------------------------------------------------------------\n",
      "k =  2 | 0.4830 | 0.4729 | 0.4560 | 0.4516 | 0.4712 | 0.4581 | \n",
      "k =  3 | 0.5669 | 0.5666 | 0.5457 | 0.5442 | 0.5677 | 0.5507 | \n",
      "k =  4 | 0.6234 | 0.6376 | 0.6138 | 0.6173 | 0.6440 | 0.6242 | \n",
      "k =  5 | 0.6566 | 0.6911 | 0.6660 | 0.6769 | 0.7062 | 0.6853 | \n",
      "k =  6 | 0.6657 | 0.7286 | 0.7047 | 0.7258 | 0.7573 | 0.7373 | \n",
      "k =  7 | 0.6450 | 0.7489 | 0.7305 | 0.7649 | 0.7989 | 0.7826 | \n",
      "k =  8 | 0.5828 | 0.7485 | 0.7428 | 0.7943 | 0.8317 | 0.8225 | \n",
      "k =  9 | 0.4516 | 0.7198 | 0.7395 | 0.8129 | 0.8558 | 0.8583 | \n",
      "k = 10 | 0.0000 | 0.6488 | 0.7168 | 0.8191 | 0.8712 | 0.8909 | \n",
      "\n",
      "       | n = 10 | n = 12 | n = 14 | n = 16 | n = 18 | n = 20 \n",
      "-------------------------------------------------------------\n",
      "k =  2 | 0.0838 | 0.0811 | 0.0776 | 0.0768 | 0.0803 | 0.0777 | \n",
      "k =  3 | 0.0662 | 0.0653 | 0.0624 | 0.0622 | 0.0650 | 0.0628 | \n",
      "k =  4 | 0.0551 | 0.0556 | 0.0531 | 0.0533 | 0.0557 | 0.0538 | \n",
      "k =  5 | 0.0469 | 0.0486 | 0.0465 | 0.0472 | 0.0493 | 0.0477 | \n",
      "k =  6 | 0.0400 | 0.0431 | 0.0414 | 0.0426 | 0.0445 | 0.0431 | \n",
      "k =  7 | 0.0336 | 0.0384 | 0.0371 | 0.0389 | 0.0406 | 0.0396 | \n",
      "k =  8 | 0.0269 | 0.0339 | 0.0334 | 0.0357 | 0.0374 | 0.0368 | \n",
      "k =  9 | 0.0187 | 0.0293 | 0.0298 | 0.0329 | 0.0346 | 0.0345 | \n",
      "k = 10 | 0.0000 | 0.0241 | 0.0263 | 0.0302 | 0.0320 | 0.0326 | \n",
      "\n"
     ]
    }
   ],
   "source": [
    "def stdDev(arr_W,int_n,int_k):\n",
    "    arr_Wsub = arr_W[:int_n,:int_n]\n",
    "    list_minors = getLogMinors(arr_Wsub, int_k)\n",
    "    return np.std(list_minors)\n",
    "\n",
    "def coeffVar(arr_W,int_n,int_k):\n",
    "    arr_Wsub = arr_W[:int_n,:int_n]\n",
    "    list_minors = getLogMinors(arr_Wsub, int_k)\n",
    "    return np.std(list_minors)/np.abs(np.mean(list_minors))\n",
    "\n",
    "n_list = [10,12,14,16,18,20]\n",
    "k_list = [2,3,4,5,6,7,8,9,10]\n",
    "W = getWigner(max(n_list))\n",
    "\n",
    "def printTables(fun, arr_W, list_n, list_k):\n",
    "    #standard deviation\n",
    "    print('       ' + \"\".join(['| n = ' + str(list_n[i]) + ' ' for i in range(len(list_n))]))\n",
    "    print('-'*(7+len(list_n)*9))\n",
    "    for k in list_k:\n",
    "        if len(str(k))==1:\n",
    "            print('k =  '+str(k)+' | ', end='')\n",
    "        else:\n",
    "            print('k = '+str(k)+' | ', end='')\n",
    "        for n in list_n:\n",
    "            print((\"%.4f\" % fun(*(arr_W,n,k))) + ' | ', end='')\n",
    "        print('')\n",
    "    print('')\n",
    "    \n",
    "printTables(stdDev, W, n_list, k_list)\n",
    "printTables(coeffVar, W, n_list, k_list)"
   ]
  },
  {
   "cell_type": "markdown",
   "metadata": {},
   "source": [
    "Let's repeat these computations, but this time we normalise the Wigner matrix by its size:"
   ]
  },
  {
   "cell_type": "code",
   "execution_count": 170,
   "metadata": {},
   "outputs": [
    {
     "name": "stdout",
     "output_type": "stream",
     "text": [
      "       | n = 10 | n = 12 | n = 14 | n = 16 | n = 18 | n = 20 \n",
      "-------------------------------------------------------------\n",
      "k =  2 | 0.4830 | 0.4729 | 0.4560 | 0.4516 | 0.4712 | 0.4581 | \n",
      "k =  3 | 0.5669 | 0.5666 | 0.5457 | 0.5442 | 0.5677 | 0.5507 | \n",
      "k =  4 | 0.6234 | 0.6376 | 0.6138 | 0.6173 | 0.6440 | 0.6242 | \n",
      "k =  5 | 0.6566 | 0.6911 | 0.6660 | 0.6769 | 0.7062 | 0.6853 | \n",
      "k =  6 | 0.6657 | 0.7286 | 0.7047 | 0.7258 | 0.7573 | 0.7373 | \n",
      "k =  7 | 0.6450 | 0.7489 | 0.7305 | 0.7649 | 0.7989 | 0.7826 | \n",
      "k =  8 | 0.5828 | 0.7485 | 0.7428 | 0.7943 | 0.8317 | 0.8225 | \n",
      "k =  9 | 0.4516 | 0.7198 | 0.7395 | 0.8129 | 0.8558 | 0.8583 | \n",
      "k = 10 | 0.0000 | 0.6488 | 0.7168 | 0.8191 | 0.8712 | 0.8909 | \n",
      "\n",
      "       | n = 10 | n = 12 | n = 14 | n = 16 | n = 18 | n = 20 \n",
      "-------------------------------------------------------------\n",
      "k =  2 | 0.4175 | 0.5493 | 0.7671 | 1.3380 | 5.3066 | 4.6311 | \n",
      "k =  3 | 0.3417 | 0.4642 | 0.6624 | 1.2489 | 8.6959 | 2.5429 | \n",
      "k =  4 | 0.2960 | 0.4171 | 0.6114 | 1.2804 | 82.1222 | 1.6261 | \n",
      "k =  5 | 0.2634 | 0.3878 | 0.5889 | 1.4322 | 5.2619 | 1.1337 | \n",
      "k =  6 | 0.2363 | 0.3684 | 0.5867 | 1.8011 | 2.3836 | 0.8356 | \n",
      "k =  7 | 0.2098 | 0.3548 | 0.6038 | 2.8509 | 1.4202 | 0.6403 | \n",
      "k =  8 | 0.1784 | 0.3437 | 0.6441 | 12.4544 | 0.9526 | 0.5049 | \n",
      "k =  9 | 0.1332 | 0.3309 | 0.7203 | 3.7721 | 0.6825 | 0.4070 | \n",
      "k = 10 | 0.0000 | 0.3087 | 0.8675 | 1.4262 | 0.5093 | 0.3338 | \n",
      "\n"
     ]
    }
   ],
   "source": [
    "def stdDevNorm(arr_W,int_n,int_k):\n",
    "    arr_Wsub = arr_W[:int_n,:int_n]/float(int_n) #norm\n",
    "    list_minors = getLogMinors(arr_Wsub, int_k)\n",
    "    return np.std(list_minors)\n",
    "\n",
    "def coeffVarNorm(arr_W,int_n,int_k):\n",
    "    arr_Wsub = arr_W[:int_n,:int_n]/float(int_n) #norm\n",
    "    list_minors = getLogMinors(arr_Wsub, int_k)\n",
    "    return np.std(list_minors)/np.abs(np.mean(list_minors))\n",
    "\n",
    "printTables(stdDevNorm, W, n_list, k_list)\n",
    "printTables(coeffVarNorm, W, n_list, k_list)"
   ]
  },
  {
   "cell_type": "markdown",
   "metadata": {},
   "source": [
    "### Observations"
   ]
  },
  {
   "cell_type": "markdown",
   "metadata": {},
   "source": [
    "For a given matrix size n, the standard deviation of an empirical distribution of log-minors of size k tends to be greatest for k around n/2. \n",
    "\n",
    "Coefficients of variation for the empirical distributions tend to \n",
    "* decrease with increasing k (for fixed n) \n",
    "* decrease with n (for fixed ratio k/n) \\* \n",
    "\n",
    "Observations on the coefficient of variation change if I introduce some normalisation for the Wigner matrices.\n",
    "\n",
    "\\* This is a very cool, but very tentative result, based on comparison coefficients of variation for matrix sizes n = 10 and n = 20."
   ]
  },
  {
   "cell_type": "markdown",
   "metadata": {},
   "source": [
    "### How can I explain what I see?"
   ]
  },
  {
   "cell_type": "markdown",
   "metadata": {},
   "source": [
    "For the observation on the standard deviation of the empirical distribution of log-minors, one can Cauchy's interlacing theorem for eigenvalues of principal submatrices to derive a bound for the standard deviation that depends on k and the condition number of the covariance matrix. This is not a concentration result. The bound does not approach zero in the large-n limit. I am not sure whether that bound is sharp or whether I can do better.\n",
    "\n",
    "For estimating sample sizes, the observations on the coefficient of variation may be more helpful than the observations on the standard deviation. But the coefficient of variation should also be harder to work with analytically than the standard deviation."
   ]
  },
  {
   "cell_type": "code",
   "execution_count": null,
   "metadata": {},
   "outputs": [],
   "source": []
  }
 ],
 "metadata": {
  "kernelspec": {
   "display_name": "Python 3",
   "language": "python",
   "name": "python3"
  },
  "language_info": {
   "codemirror_mode": {
    "name": "ipython",
    "version": 3
   },
   "file_extension": ".py",
   "mimetype": "text/x-python",
   "name": "python",
   "nbconvert_exporter": "python",
   "pygments_lexer": "ipython3",
   "version": "3.6.5"
  }
 },
 "nbformat": 4,
 "nbformat_minor": 2
}
