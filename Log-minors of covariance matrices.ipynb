{
 "cells": [
  {
   "cell_type": "markdown",
   "metadata": {},
   "source": [
    "# Log-minors of covariance matrices"
   ]
  },
  {
   "cell_type": "markdown",
   "metadata": {},
   "source": [
    "### Why do I care?"
   ]
  },
  {
   "cell_type": "markdown",
   "metadata": {},
   "source": [
    "For several multivariate stochastic processes, log-determinants of covariance matrices can be used to estimate the entropy of a system. Mean log-minors can be used to estimate mean subsystem entropy. Mean subsystem entropy is a quantity of interest in some subfields of physics and neuroscience. (Also, for computing redundancy in my Ornstein--Uhlenbeck networks.)\n",
    "\n",
    "Computing the exact value of mean subsystem entropy requires that we compute all nCr minors. This becomes impossible for large systems. So one needs to replace the mean with a sample mean. If I am able to predict (reasonable upper bounds for) the standard deviation for log-minors of a given covariance matrix, then I can make an informed decision regarding the minimum sample size."
   ]
  },
  {
   "cell_type": "markdown",
   "metadata": {},
   "source": [
    "### Some code"
   ]
  },
  {
   "cell_type": "markdown",
   "metadata": {},
   "source": [
    "Let's start with some useful packages and functions..."
   ]
  },
  {
   "cell_type": "code",
   "execution_count": 95,
   "metadata": {},
   "outputs": [],
   "source": [
    "import numpy as np\n",
    "import itertools as it\n",
    "from functools import reduce\n",
    "from matplotlib import pyplot as plt\n",
    "\n",
    "# function computes number of combinations nCr\n",
    "def nCr(int_n,int_r):\n",
    "    if int_r > int_n:\n",
    "        return 0\n",
    "    else:\n",
    "        if int_r < int_n/2:\n",
    "            int_r = int_n - int_r\n",
    "        out = reduce(lambda x, y: x * y[0] / y[1], zip(range(int_n - int_r + 1, int_n+1), range(1, int_r+1)), 1)\n",
    "        return int(out)"
   ]
  },
  {
   "cell_type": "markdown",
   "metadata": {},
   "source": [
    "Let's draw a matrix from the Wigner ensemble:"
   ]
  },
  {
   "cell_type": "code",
   "execution_count": 141,
   "metadata": {},
   "outputs": [],
   "source": [
    "def getWigner(int_n):\n",
    "    X = np.random.normal(size=(int_n,int_n))\n",
    "    return np.matmul(X.T,X)\n",
    "\n",
    "n = 25\n",
    "W = getWigner(n)"
   ]
  },
  {
   "cell_type": "markdown",
   "metadata": {},
   "source": [
    "Let's compute all log-determinants of principal submatrices of size k=4,6,8:"
   ]
  },
  {
   "cell_type": "code",
   "execution_count": 156,
   "metadata": {},
   "outputs": [],
   "source": [
    "def getLogMinors(arr_W, int_k):\n",
    "    int_n = arr_W.shape[0]\n",
    "    list_minors = np.zeros(nCr(int_n,int_k))\n",
    "    for i, c in enumerate(it.combinations(range(int_n),int_k)):\n",
    "        list_minors[i] = np.linalg.det(arr_W[[*c]][:,[*c]])\n",
    "    return np.log(list_minors)\n",
    "\n",
    "minors4 = getLogMinors(W,4)\n",
    "minors6 = getLogMinors(W,6)\n",
    "minors8 = getLogMinors(W,8)"
   ]
  },
  {
   "cell_type": "markdown",
   "metadata": {},
   "source": [
    "Let's look at their empirical distribution:"
   ]
  },
  {
   "cell_type": "code",
   "execution_count": 161,
   "metadata": {},
   "outputs": [
    {
     "data": {
      "text/plain": [
       "<matplotlib.legend.Legend at 0x121dc630>"
      ]
     },
     "execution_count": 161,
     "metadata": {},
     "output_type": "execute_result"
    },
    {
     "data": {
      "image/png": "[encoded data removed]",
      "text/plain": [
       "<Figure size 432x288 with 1 Axes>"
      ]
     },
     "metadata": {},
     "output_type": "display_data"
    }
   ],
   "source": [
    "plt.hist(minors4,bins=100, density=True, color='red', label='log minors of size 4')[2]\n",
    "plt.hist(minors6,bins=100, density=True, color='orange', label='log minors of size 6')[2]\n",
    "plt.hist(minors8,bins=100, density=True, color='blue', label='log minors of size 8')[2]\n",
    "plt.xlabel('log minor')\n",
    "plt.ylabel('frequency')\n",
    "plt.legend()"
   ]
  },
  {
   "cell_type": "markdown",
   "metadata": {},
   "source": [
    "Let's compute the standard deviation and coefficient of variation of the empirical distribution of log-minors for a few values of n and k (This may take a few minutes):"
   ]
  },
  {
   "cell_type": "code",
   "execution_count": 148,
   "metadata": {},
   "outputs": [
    {
     "name": "stdout",
     "output_type": "stream",
     "text": [
      "  std  | n = 10 | n = 12 | n = 14 | n = 16 | n = 18 | n = 20 | n = 22 \n",
      "----------------------------------------------------------------------\n",
      "k =  2 | 0.3546 | 0.3627 | 0.3582 | 0.3376 | 0.3444 | 0.3317 | 0.3383 | \n",
      "k =  3 | 0.3893 | 0.4095 | 0.4184 | 0.3960 | 0.4092 | 0.3948 | 0.4053 | \n",
      "k =  4 | 0.4005 | 0.4359 | 0.4633 | 0.4398 | 0.4599 | 0.4447 | 0.4592 | \n",
      "k =  5 | 0.3955 | 0.4482 | 0.4992 | 0.4751 | 0.5020 | 0.4870 | 0.5054 | \n",
      "k =  6 | 0.3778 | 0.4495 | 0.5297 | 0.5055 | 0.5384 | 0.5248 | 0.5471 | \n",
      "k =  7 | 0.3480 | 0.4408 | 0.5564 | 0.5331 | 0.5706 | 0.5600 | 0.5864 | \n",
      "k =  8 | 0.3032 | 0.4215 | 0.5794 | 0.5594 | 0.5996 | 0.5942 | 0.6249 | \n",
      "k =  9 | 0.2308 | 0.3894 | 0.5969 | 0.5849 | 0.6261 | 0.6286 | 0.6642 | \n",
      "k = 10 | 0.0000 | 0.3388 | 0.6045 | 0.6089 | 0.6504 | 0.6644 | 0.7058 | \n",
      "\n",
      "  cv   | n = 10 | n = 12 | n = 14 | n = 16 | n = 18 | n = 20 | n = 22 \n",
      "----------------------------------------------------------------------\n",
      "k =  2 | 0.0589 | 0.0593 | 0.0590 | 0.0555 | 0.0572 | 0.0550 | 0.0557 | \n",
      "k =  3 | 0.0435 | 0.0451 | 0.0464 | 0.0437 | 0.0456 | 0.0440 | 0.0448 | \n",
      "k =  4 | 0.0338 | 0.0363 | 0.0389 | 0.0367 | 0.0388 | 0.0375 | 0.0384 | \n",
      "k =  5 | 0.0270 | 0.0301 | 0.0338 | 0.0320 | 0.0342 | 0.0332 | 0.0342 | \n",
      "k =  6 | 0.0216 | 0.0254 | 0.0302 | 0.0286 | 0.0308 | 0.0301 | 0.0311 | \n",
      "k =  7 | 0.0172 | 0.0216 | 0.0275 | 0.0261 | 0.0282 | 0.0278 | 0.0289 | \n",
      "k =  8 | 0.0132 | 0.0182 | 0.0253 | 0.0242 | 0.0262 | 0.0261 | 0.0272 | \n",
      "k =  9 | 0.0090 | 0.0151 | 0.0235 | 0.0227 | 0.0246 | 0.0248 | 0.0260 | \n",
      "k = 10 | 0.0000 | 0.0120 | 0.0217 | 0.0215 | 0.0232 | 0.0239 | 0.0252 | \n",
      "\n"
     ]
    }
   ],
   "source": [
    "def stdDev(arr_W,int_n,int_k):\n",
    "    arr_Wsub = arr_W[:int_n,:int_n]\n",
    "    list_minors = getLogMinors(arr_Wsub, int_k)\n",
    "    return np.std(list_minors)\n",
    "\n",
    "def coeffVar(arr_W,int_n,int_k):\n",
    "    arr_Wsub = arr_W[:int_n,:int_n]\n",
    "    list_minors = getLogMinors(arr_Wsub, int_k)\n",
    "    return np.std(list_minors)/np.abs(np.mean(list_minors))\n",
    "\n",
    "n_list = [10,12,14,16,18,20,22]\n",
    "k_list = [2,3,4,5,6,7,8,9,10]\n",
    "W = getWigner(max(n_list))\n",
    "\n",
    "#standard deviation\n",
    "print('  std  ' + \"\".join(['| n = ' + str(n_list[i]) + ' ' for i in range(len(n_list))]))\n",
    "print('-'*(7+len(n_list)*9))\n",
    "for k in k_list:\n",
    "    if len(str(k))==1:\n",
    "        print('k =  '+str(k)+' | ', end='')\n",
    "    else:\n",
    "        print('k = '+str(k)+' | ', end='')\n",
    "    for n in n_list:\n",
    "        print((\"%.4f\" % stdDev(W,n,k)) + ' | ', end='')\n",
    "    print('')\n",
    "print('')\n",
    "    \n",
    "#coefficient of variation\n",
    "print('  cv   ' + \"\".join(['| n = ' + str(n_list[i]) + ' ' for i in range(len(n_list))]))\n",
    "print('-'*(7+len(n_list)*9))\n",
    "for k in k_list:\n",
    "    if len(str(k))==1:\n",
    "        print('k =  '+str(k)+' | ', end='')\n",
    "    else:\n",
    "        print('k = '+str(k)+' | ', end='')\n",
    "    for n in n_list:\n",
    "        print((\"%.4f\" % coeffVar(W,n,k)) + ' | ', end='')\n",
    "    print('')\n",
    "print('')"
   ]
  },
  {
   "cell_type": "markdown",
   "metadata": {},
   "source": [
    "### Observations"
   ]
  },
  {
   "cell_type": "markdown",
   "metadata": {},
   "source": [
    "For a given matrix size n, the standard deviation of an empirical distribution of log-minors of size k tends to be greatest for k around n/2. \n",
    "\n",
    "Coefficients of variation for the empirical distributions tend to \n",
    "* decrease with increasing k (for fixed n) \n",
    "* decrease with n (for fixed ratio k/n) <-- based on comparison of matrix sizes n = 10 and n = 20\n",
    "\n",
    "Observations on the coefficient of variation may change if I introduce some normalisation for the Wigner matrices."
   ]
  },
  {
   "cell_type": "markdown",
   "metadata": {},
   "source": [
    "### How can I explain what I see?"
   ]
  },
  {
   "cell_type": "markdown",
   "metadata": {},
   "source": [
    "For the observation on the standard deviation of the empirical distribution of log-minors, one can Cauchy's interlacing theorem for eigenvalues of principal submatrices to derive a bound for the standard deviation that depends on k and the condition number of the covariance matrix. This is not a concentration result. The bound does not approach zero in the large-n limit. I am not sure whether that bound is sharp or whether I can do better.\n",
    "\n",
    "The observations on the coefficient of variation may be more helpful for estimating sample sizes. But I am not yet sure, whether they still hold if I normalise my Wigner matrix or if I choose a distribution for elements of X that is not standard normal."
   ]
  },
  {
   "cell_type": "code",
   "execution_count": null,
   "metadata": {},
   "outputs": [],
   "source": []
  }
 ],
 "metadata": {
  "kernelspec": {
   "display_name": "Python 3",
   "language": "python",
   "name": "python3"
  },
  "language_info": {
   "codemirror_mode": {
    "name": "ipython",
    "version": 3
   },
   "file_extension": ".py",
   "mimetype": "text/x-python",
   "name": "python",
   "nbconvert_exporter": "python",
   "pygments_lexer": "ipython3",
   "version": "3.6.5"
  }
 },
 "nbformat": 4,
 "nbformat_minor": 2
}
